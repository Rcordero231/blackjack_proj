{
 "cells": [
  {
   "cell_type": "markdown",
   "metadata": {},
   "source": [
    "## Python Blackjack\n",
    "For this project you will make a Blackjack game using Python. Click <a href=\"http://www.hitorstand.net/strategy.php\">here</a> to familiarize yourself with the the rules of the game. You won't be implementing every rule \"down to the letter\" with the game, but we will doing a simpler version of the game. This assignment will be given to further test your knowledge on object-oriented programming concepts.\n",
    "\n",
    "### Rules:\n",
    "\n",
    "`1. ` The game will have two players: the Dealer and the Player. The game will start off with a deck of 52 cards. The 52 cards will consist of 4 different suits: Clubs, Diamonds, Hearts and Spades. For each suit, there will be cards numbered 1 through 13. <br>\n",
    "**Note: No wildcards will be used in the program**\n",
    "\n",
    "`2. ` When the game begins, the dealer will shuffle the deck of cards, making them randomized. After the dealer shuffles, it will deal the player 2 cards and will deal itself 2 cards from. The Player should be able to see both of their own cards, but should only be able to see one of the Dealer's cards.\n",
    " \n",
    "`3. ` The objective of the game is for the Player to count their cards after they're dealt. If they're not satisfied with the number, they have the ability to 'Hit'. A hit allows the dealer to deal the Player one additional card. The Player can hit as many times as they'd like as long as they don't 'Bust'. A bust is when the Player is dealt cards that total more than 21.\n",
    "\n",
    "`4. ` If the dealer deals the Player cards equal to 21 on the **first** deal, the Player wins. This is referred to as Blackjack. Blackjack is **NOT** the same as getting cards that equal up to 21 after the first deal. Blackjack can only be attained on the first deal.\n",
    "\n",
    "`5. ` The Player will never see the Dealer's hand until the Player chooses to 'stand'. A Stand is when the player tells the dealer to not deal it anymore cards. Once the player chooses to Stand, the Player and the Dealer will compare their hands. Whoever has the higher number wins. Keep in mind that the Dealer can also bust. "
   ]
  },
  {
   "cell_type": "code",
   "execution_count": 14,
   "metadata": {
    "scrolled": true
   },
   "outputs": [],
   "source": [
    "import random\n",
    "\n",
    "# Establish the deck and the rules of the game within Game() class\n",
    "class Game:\n",
    "    # Create innit with the main variables you will use accross the game player, dealer, deck, etc,\n",
    "    def __init__(self, user, dealer):\n",
    "        self.user = user\n",
    "        self.dealer = dealer\n",
    "        self.deck = []\n",
    "\n",
    "    def creat_deck(self):\n",
    "        values = [2, 3, 4, 5, 6, 7, 8, 9, 'J', 'K', 'Q', 'A']\n",
    "        suits = ['\\u2663', '\\u2660', '\\u2666', '\\u2665']\n",
    "        for i in range(len(values)):\n",
    "            for i2 in range(len(suits)):\n",
    "                self.deck.append((values[i], suits[i2]))\n",
    "                random.shuffle(self.deck)\n",
    "        return self.deck\n",
    "\n",
    "\n",
    "            \n",
    "class Card:\n",
    "    pass\n",
    "\n",
    "class Player:\n",
    "    pass\n",
    "\n",
    "class Dealer(Player):\n",
    "    pass\n",
    "\n",
    "class User(Player):\n",
    "    pass\n",
    "def main():\n",
    "    game = Game()\n",
    "    pass"
   ]
  },
  {
   "cell_type": "code",
   "execution_count": 12,
   "metadata": {},
   "outputs": [
    {
     "name": "stdout",
     "output_type": "stream",
     "text": [
      "[(3, '♦'), ('A', '♥'), ('K', '♠'), (7, '♣'), (5, '♦'), (7, '♥'), (7, '♠'), (6, '♣'), (9, '♣'), ('J', '♠'), (6, '♠'), ('K', '♦'), (3, '♥'), ('A', '♠'), ('A', '♣'), (6, '♥'), ('J', '♥'), (9, '♠'), (2, '♦'), ('Q', '♣'), (2, '♠'), ('K', '♣'), ('J', '♦'), (4, '♣'), (5, '♣'), (4, '♦'), (9, '♦'), ('Q', '♦'), (3, '♠'), (5, '♠'), (7, '♦'), (3, '♣'), (5, '♥'), (6, '♦'), (4, '♠'), (8, '♣'), (2, '♣'), ('A', '♦'), (2, '♥'), (4, '♥'), ('J', '♣'), (8, '♠'), ('Q', '♥'), (8, '♥'), (8, '♦'), ('K', '♥'), ('Q', '♠'), (9, '♥')]\n"
     ]
    }
   ],
   "source": [
    "import random\n",
    "deck = []\n",
    "\n",
    "values = [2, 3, 4, 5, 6, 7, 8, 9, 'J', 'K', 'Q', 'A']\n",
    "suits = ['\\u2663', '\\u2660', '\\u2666', '\\u2665']\n",
    "\n",
    "for i in range(len(values)):\n",
    "    for i2 in range(len(suits)):\n",
    "        deck.append((values[i], suits[i2]))\n",
    "        random.shuffle(deck)\n",
    "print(deck)"
   ]
  },
  {
   "cell_type": "code",
   "execution_count": null,
   "metadata": {},
   "outputs": [],
   "source": []
  }
 ],
 "metadata": {
  "kernelspec": {
   "display_name": "Python 3",
   "language": "python",
   "name": "python3"
  },
  "language_info": {
   "codemirror_mode": {
    "name": "ipython",
    "version": 3
   },
   "file_extension": ".py",
   "mimetype": "text/x-python",
   "name": "python",
   "nbconvert_exporter": "python",
   "pygments_lexer": "ipython3",
   "version": "3.12.0"
  }
 },
 "nbformat": 4,
 "nbformat_minor": 2
}
