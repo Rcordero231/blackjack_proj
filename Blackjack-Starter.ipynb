{
 "cells": [
  {
   "cell_type": "markdown",
   "metadata": {},
   "source": [
    "## Python Blackjack\n",
    "For this project you will make a Blackjack game using Python. Click <a href=\"http://www.hitorstand.net/strategy.php\">here</a> to familiarize yourself with the the rules of the game. You won't be implementing every rule \"down to the letter\" with the game, but we will doing a simpler version of the game. This assignment will be given to further test your knowledge on object-oriented programming concepts.\n",
    "\n",
    "### Rules:\n",
    "\n",
    "`1. ` The game will have two players: the Dealer and the Player. The game will start off with a deck of 52 cards. The 52 cards will consist of 4 different suits: Clubs, Diamonds, Hearts and Spades. For each suit, there will be cards numbered 1 through 13. <br>\n",
    "**Note: No wildcards will be used in the program**\n",
    "\n",
    "`2. ` When the game begins, the dealer will shuffle the deck of cards, making them randomized. After the dealer shuffles, it will deal the player 2 cards and will deal itself 2 cards from. The Player should be able to see both of their own cards, but should only be able to see one of the Dealer's cards.\n",
    " \n",
    "`3. ` The objective of the game is for the Player to count their cards after they're dealt. If they're not satisfied with the number, they have the ability to 'Hit'. A hit allows the dealer to deal the Player one additional card. The Player can hit as many times as they'd like as long as they don't 'Bust'. A bust is when the Player is dealt cards that total more than 21.\n",
    "\n",
    "`4. ` If the dealer deals the Player cards equal to 21 on the **first** deal, the Player wins. This is referred to as Blackjack. Blackjack is **NOT** the same as getting cards that equal up to 21 after the first deal. Blackjack can only be attained on the first deal.\n",
    "\n",
    "`5. ` The Player will never see the Dealer's hand until the Player chooses to 'stand'. A Stand is when the player tells the dealer to not deal it anymore cards. Once the player chooses to Stand, the Player and the Dealer will compare their hands. Whoever has the higher number wins. Keep in mind that the Dealer can also bust. "
   ]
  },
  {
   "cell_type": "code",
   "execution_count": 41,
   "metadata": {
    "scrolled": true
   },
   "outputs": [],
   "source": [
    "import random\n",
    "\n",
    "# new approach start with elements of the game to reference laterin actual game class\n",
    "class Deck:\n",
    "    #attributes for deck\n",
    "    def __init__(self):\n",
    "        self.deck = []\n",
    "        self.values = [2, 3, 4, 5, 6, 7, 8, 9, 'J', 'K', 'Q', 'A']\n",
    "        self.suits = ['\\u2663', '\\u2660', '\\u2666', '\\u2665']\n",
    "\n",
    "    #create the decks by matching indexes for every combination\n",
    "    def creat_deck(self):\n",
    "        for i in range(len(self.values)):\n",
    "            for i2 in range(len(self.suits)):\n",
    "                #attach card attribute to every tuple in the list\n",
    "                self.deck.append(Card(self.values[i], self.suits[i2]))\n",
    "        # Black Jack uses 6 decks usually\n",
    "        return self.deck *6\n",
    "\n",
    "    #Allow for deck shuffling\n",
    "    def shuffle_deck(self):\n",
    "        random.shuffle(self.deck)\n",
    "\n",
    "#create the structure of the card\n",
    "class Card:\n",
    "    #cards require the suit and the value of the card\n",
    "    def __init__(self, value, suit):\n",
    "        self.value = value\n",
    "        self.suit = suit\n",
    "    \n",
    "    #how it looks when we print in string\n",
    "    def __repr__(self):\n",
    "        return f'{self.value} of {self.suit}'\n",
    "\n",
    "    #set values to the \"face\" cards\n",
    "    @property\n",
    "    def check_score(self):\n",
    "        if self.value in ['J', 'Q', 'K']:\n",
    "            return 10\n",
    "        elif self.value == 'A':\n",
    "            return 1\n",
    "        else:\n",
    "            return int(self.value)\n",
    "    \n",
    "\n",
    "#create what the player can do with cards hand, hit, stay, etc.\n",
    "class Player:\n",
    "    def __init__(self):\n",
    "        self.hand = []\n",
    "\n",
    "    def starting_hand(self, deck):\n",
    "        self.hand.append(deck[0])\n",
    "        deck.pop(0)\n",
    "    \n",
    "    def hand_value(self):\n",
    "        aces = 0\n",
    "\n",
    "class Dealer(Player):\n",
    "    pass\n",
    "\n",
    "\n",
    "def main():\n",
    "    game = Game()\n",
    "    pass"
   ]
  },
  {
   "cell_type": "code",
   "execution_count": null,
   "metadata": {},
   "outputs": [],
   "source": []
  },
  {
   "cell_type": "code",
   "execution_count": 305,
   "metadata": {},
   "outputs": [
    {
     "name": "stdout",
     "output_type": "stream",
     "text": [
      "[2 of ♥, 2 of ♠, 2 of ♣, 2 of ♦]\n",
      "[3 of ♥, 2 of ♥, 2 of ♣, 3 of ♠, 2 of ♦, 2 of ♠, 3 of ♣, 3 of ♦]\n",
      "[2 of ♦, 2 of ♠, 2 of ♣, 4 of ♦, 4 of ♠, 3 of ♥, 3 of ♠, 4 of ♣, 3 of ♦, 2 of ♥, 4 of ♥, 3 of ♣]\n",
      "[4 of ♦, 4 of ♣, 2 of ♥, 5 of ♦, 4 of ♠, 3 of ♠, 2 of ♦, 2 of ♠, 3 of ♣, 5 of ♥, 3 of ♦, 4 of ♥, 2 of ♣, 3 of ♥, 5 of ♣, 5 of ♠]\n",
      "[2 of ♦, 6 of ♠, 6 of ♥, 2 of ♥, 3 of ♠, 4 of ♠, 3 of ♣, 4 of ♣, 4 of ♦, 5 of ♥, 6 of ♦, 2 of ♠, 3 of ♦, 5 of ♠, 5 of ♦, 5 of ♣, 2 of ♣, 4 of ♥, 3 of ♥, 6 of ♣]\n",
      "[5 of ♦, 4 of ♦, 6 of ♠, 2 of ♦, 4 of ♠, 6 of ♦, 7 of ♥, 5 of ♥, 7 of ♣, 5 of ♣, 3 of ♣, 2 of ♣, 3 of ♥, 4 of ♣, 3 of ♠, 2 of ♠, 7 of ♠, 6 of ♣, 3 of ♦, 6 of ♥, 2 of ♥, 7 of ♦, 4 of ♥, 5 of ♠]\n",
      "[6 of ♦, 4 of ♦, 7 of ♦, 2 of ♦, 8 of ♣, 5 of ♥, 6 of ♣, 5 of ♦, 3 of ♦, 4 of ♠, 3 of ♣, 8 of ♦, 3 of ♥, 5 of ♣, 4 of ♣, 5 of ♠, 7 of ♥, 6 of ♠, 8 of ♠, 8 of ♥, 6 of ♥, 4 of ♥, 7 of ♣, 2 of ♣, 7 of ♠, 2 of ♠, 2 of ♥, 3 of ♠]\n",
      "[3 of ♥, 9 of ♥, 3 of ♣, 9 of ♦, 5 of ♦, 6 of ♥, 3 of ♠, 6 of ♠, 9 of ♠, 9 of ♣, 3 of ♦, 7 of ♣, 2 of ♦, 6 of ♦, 2 of ♠, 7 of ♦, 4 of ♣, 8 of ♠, 5 of ♥, 6 of ♣, 5 of ♣, 8 of ♦, 8 of ♣, 7 of ♥, 7 of ♠, 2 of ♥, 8 of ♥, 5 of ♠, 4 of ♦, 4 of ♥, 2 of ♣, 4 of ♠]\n",
      "[2 of ♦, 7 of ♣, 9 of ♥, 5 of ♣, 3 of ♦, 4 of ♥, 5 of ♠, 4 of ♣, 3 of ♣, 5 of ♦, 5 of ♥, 6 of ♠, 8 of ♣, J of ♠, 7 of ♠, 2 of ♣, 2 of ♥, 9 of ♠, 7 of ♥, 2 of ♠, 6 of ♥, 4 of ♠, 4 of ♦, J of ♦, 8 of ♥, J of ♣, 8 of ♠, 3 of ♠, 8 of ♦, 9 of ♦, 6 of ♦, 6 of ♣, 7 of ♦, J of ♥, 3 of ♥, 9 of ♣]\n",
      "[7 of ♦, 7 of ♣, 5 of ♦, 6 of ♦, 9 of ♥, J of ♠, 2 of ♠, 3 of ♠, 6 of ♥, 3 of ♦, 7 of ♥, 8 of ♠, 9 of ♠, J of ♦, 4 of ♥, 8 of ♣, 2 of ♣, 4 of ♣, 5 of ♥, 5 of ♣, K of ♥, 8 of ♦, 4 of ♦, J of ♣, K of ♣, 9 of ♦, 7 of ♠, 8 of ♥, J of ♥, 4 of ♠, 3 of ♥, 2 of ♥, 9 of ♣, 6 of ♠, 2 of ♦, K of ♠, 3 of ♣, 6 of ♣, K of ♦, 5 of ♠]\n",
      "[J of ♠, 2 of ♥, K of ♣, Q of ♦, 3 of ♦, 5 of ♣, Q of ♠, 4 of ♥, J of ♦, 7 of ♦, 5 of ♥, J of ♣, 2 of ♠, 4 of ♣, K of ♠, 6 of ♦, 8 of ♥, 3 of ♣, 4 of ♦, 9 of ♦, Q of ♥, 7 of ♥, 8 of ♣, 5 of ♦, 9 of ♠, 9 of ♣, 7 of ♣, 7 of ♠, 6 of ♠, 9 of ♥, 3 of ♥, 5 of ♠, 3 of ♠, K of ♥, 6 of ♣, 4 of ♠, J of ♥, 8 of ♠, 6 of ♥, 2 of ♣, Q of ♣, K of ♦, 8 of ♦, 2 of ♦]\n",
      "[J of ♣, 3 of ♦, Q of ♥, Q of ♠, J of ♦, 9 of ♦, A of ♠, 8 of ♥, K of ♥, A of ♣, 4 of ♠, 4 of ♥, 2 of ♣, 3 of ♠, 6 of ♥, 8 of ♦, A of ♥, J of ♠, 5 of ♦, K of ♠, 7 of ♣, 4 of ♣, J of ♥, K of ♣, K of ♦, 9 of ♠, 3 of ♣, 7 of ♥, 9 of ♣, 5 of ♠, 2 of ♥, 3 of ♥, Q of ♣, A of ♦, 4 of ♦, 2 of ♦, 7 of ♦, 6 of ♠, 2 of ♠, 7 of ♠, 8 of ♠, 5 of ♥, 9 of ♥, 8 of ♣, 6 of ♦, 5 of ♣, 6 of ♣, Q of ♦]\n",
      "[J of ♣]\n",
      "[3 of ♦, Q of ♥, Q of ♠, J of ♦, 9 of ♦, A of ♠, 8 of ♥, K of ♥, A of ♣, 4 of ♠, 4 of ♥, 2 of ♣, 3 of ♠, 6 of ♥, 8 of ♦, A of ♥, J of ♠, 5 of ♦, K of ♠, 7 of ♣, 4 of ♣, J of ♥, K of ♣, K of ♦, 9 of ♠, 3 of ♣, 7 of ♥, 9 of ♣, 5 of ♠, 2 of ♥, 3 of ♥, Q of ♣, A of ♦, 4 of ♦, 2 of ♦, 7 of ♦, 6 of ♠, 2 of ♠, 7 of ♠, 8 of ♠, 5 of ♥, 9 of ♥, 8 of ♣, 6 of ♦, 5 of ♣, 6 of ♣, Q of ♦]\n"
     ]
    }
   ],
   "source": [
    "deck = []\n",
    "values = [2, 3, 4, 5, 6, 7, 8, 9, 'J', 'K', 'Q', 'A']\n",
    "suits = ['\\u2663', '\\u2660', '\\u2666', '\\u2665']\n",
    "\n",
    "#create the decks by matching indexes for every combination\n",
    "\n",
    "for i in range(len(values)):\n",
    "    for i2 in range(len(suits)):\n",
    "        #attach card attribute to every tuple in the list\n",
    "        deck.append(Card(values[i], suits[i2]))\n",
    "    for cards in deck:\n",
    "# Black Jack uses 6 decks usually\n",
    "        random.shuffle(deck)\n",
    "    print(deck)\n",
    "\n",
    "\n",
    "hand = []\n",
    "\n",
    "\n",
    "hand.append(deck[0])\n",
    "deck.pop(0)\n",
    "print(hand)\n",
    "print(deck)"
   ]
  },
  {
   "cell_type": "code",
   "execution_count": 68,
   "metadata": {},
   "outputs": [
    {
     "name": "stdout",
     "output_type": "stream",
     "text": [
      "2 of ♥\n"
     ]
    }
   ],
   "source": [
    "print (deck[1])"
   ]
  },
  {
   "cell_type": "code",
   "execution_count": null,
   "metadata": {},
   "outputs": [],
   "source": []
  },
  {
   "cell_type": "code",
   "execution_count": null,
   "metadata": {},
   "outputs": [],
   "source": []
  },
  {
   "cell_type": "code",
   "execution_count": null,
   "metadata": {},
   "outputs": [],
   "source": []
  },
  {
   "cell_type": "code",
   "execution_count": null,
   "metadata": {},
   "outputs": [],
   "source": []
  },
  {
   "cell_type": "code",
   "execution_count": null,
   "metadata": {},
   "outputs": [],
   "source": [
    "def main():\n",
    "    deck = []\n",
    "    values = [2, 3, 4, 5, 6, 7, 8, 9, 'J', 'K', 'Q', 'A']\n",
    "    suits = ['\\u2663', '\\u2660', '\\u2666', '\\u2665']\n",
    "\n",
    "    player_score = 0\n",
    "    dealer_score = 0\n",
    "    print('Hello welcome to the BlackJack Table!!!!')\n",
    "    player = input('Please enter your name so we can be better accquanted: ').title()\n",
    "    print(f'{player}!!! What a lovely name!!!')\n",
    "    print(f'Ok {player} pay attention and follow the prompts to play, and have fun.')\n",
    "    while True:\n",
    "        choice = input(f'Welcome agian to the table {player} enter \"BEGIN\" to shuffle the deck and get dealt your hand or enter \"STOP\" to close the game: ').lower()\n",
    "        while choice not in {'begin', 'stop'}:\n",
    "            choice = input('Not a valid response please enter \"BEGIN\" or \"STOP\": ')\n",
    "            if choice == 'stop':\n",
    "                print(f'We will miss you {player}!!! Thanks for playing, goodbye!')\n",
    "                break\n",
    "\n",
    "\n",
    "                    \n"
   ]
  }
 ],
 "metadata": {
  "kernelspec": {
   "display_name": "Python 3",
   "language": "python",
   "name": "python3"
  },
  "language_info": {
   "codemirror_mode": {
    "name": "ipython",
    "version": 3
   },
   "file_extension": ".py",
   "mimetype": "text/x-python",
   "name": "python",
   "nbconvert_exporter": "python",
   "pygments_lexer": "ipython3",
   "version": "3.12.0"
  }
 },
 "nbformat": 4,
 "nbformat_minor": 2
}
