{
 "cells": [
  {
   "cell_type": "markdown",
   "metadata": {},
   "source": [
    "## Python Blackjack\n",
    "For this project you will make a Blackjack game using Python. Click <a href=\"http://www.hitorstand.net/strategy.php\">here</a> to familiarize yourself with the the rules of the game. You won't be implementing every rule \"down to the letter\" with the game, but we will doing a simpler version of the game. This assignment will be given to further test your knowledge on object-oriented programming concepts.\n",
    "\n",
    "### Rules:\n",
    "\n",
    "`1. ` The game will have two players: the Dealer and the Player. The game will start off with a deck of 52 cards. The 52 cards will consist of 4 different suits: Clubs, Diamonds, Hearts and Spades. For each suit, there will be cards numbered 1 through 13. <br>\n",
    "**Note: No wildcards will be used in the program**\n",
    "\n",
    "`2. ` When the game begins, the dealer will shuffle the deck of cards, making them randomized. After the dealer shuffles, it will deal the player 2 cards and will deal itself 2 cards from. The Player should be able to see both of their own cards, but should only be able to see one of the Dealer's cards.\n",
    " \n",
    "`3. ` The objective of the game is for the Player to count their cards after they're dealt. If they're not satisfied with the number, they have the ability to 'Hit'. A hit allows the dealer to deal the Player one additional card. The Player can hit as many times as they'd like as long as they don't 'Bust'. A bust is when the Player is dealt cards that total more than 21.\n",
    "\n",
    "`4. ` If the dealer deals the Player cards equal to 21 on the **first** deal, the Player wins. This is referred to as Blackjack. Blackjack is **NOT** the same as getting cards that equal up to 21 after the first deal. Blackjack can only be attained on the first deal.\n",
    "\n",
    "`5. ` The Player will never see the Dealer's hand until the Player chooses to 'stand'. A Stand is when the player tells the dealer to not deal it anymore cards. Once the player chooses to Stand, the Player and the Dealer will compare their hands. Whoever has the higher number wins. Keep in mind that the Dealer can also bust. "
   ]
  },
  {
   "cell_type": "code",
   "execution_count": 14,
   "metadata": {
    "scrolled": true
   },
   "outputs": [],
   "source": [
    "import random\n",
    "\n",
    "# Establish the deck and the rules of the game within Game() class\n",
    "class Game:\n",
    "    # Create innit with the main variables you will use accross the game player, dealer, deck, etc,\n",
    "    def __init__(self, user, dealer):\n",
    "        self.user = user\n",
    "        self.dealer = dealer\n",
    "        self.deck = []\n",
    "        self.values = [2, 3, 4, 5, 6, 7, 8, 9, 'J', 'K', 'Q', 'A']\n",
    "        self.suits = ['\\u2663', '\\u2660', '\\u2666', '\\u2665']\n",
    "\n",
    "    def creat_deck(self):\n",
    "        for i in range(len(self.values)):\n",
    "            for i2 in range(len(self.suits)):\n",
    "                self.deck.append(Card(self.values[i], self.suits[i2]))\n",
    "                random.shuffle(self.deck)\n",
    "        return self.deck *6\n",
    "\n",
    "\n",
    "            \n",
    "class Card:\n",
    "    def __init__(self, value, suit):\n",
    "        self.value = value\n",
    "        self.suit = suit\n",
    "    \n",
    "    def __repr__(self):\n",
    "        return f'{self.value} of {self.suit}'\n",
    "\n",
    "    def card_value(self):\n",
    "        if self.value in ['J', 'Q', 'K']:\n",
    "            return 10\n",
    "        elif self.value == 'A':\n",
    "            return 11\n",
    "        else:\n",
    "            return int(self.value)\n",
    "    \n",
    "\n",
    "class Player:\n",
    "    def __init__(self):\n",
    "        self.hand = []\n",
    "    \n",
    "    def hit_me(self):\n",
    "        \n",
    "\n",
    "class Dealer(Player):\n",
    "    pass\n",
    "\n",
    "class User(Player):\n",
    "    pass\n",
    "def main():\n",
    "    game = Game()\n",
    "    pass"
   ]
  },
  {
   "cell_type": "code",
   "execution_count": 16,
   "metadata": {},
   "outputs": [
    {
     "name": "stdout",
     "output_type": "stream",
     "text": [
      "[(2, '♣'), (2, '♠'), (2, '♦'), (2, '♥'), (3, '♣'), (3, '♠'), (3, '♦'), (3, '♥'), (4, '♣'), (4, '♠'), (4, '♦'), (4, '♥'), (5, '♣'), (5, '♠'), (5, '♦'), (5, '♥'), (6, '♣'), (6, '♠'), (6, '♦'), (6, '♥'), (7, '♣'), (7, '♠'), (7, '♦'), (7, '♥'), (8, '♣'), (8, '♠'), (8, '♦'), (8, '♥'), (9, '♣'), (9, '♠'), (9, '♦'), (9, '♥'), ('J', '♣'), ('J', '♠'), ('J', '♦'), ('J', '♥'), ('K', '♣'), ('K', '♠'), ('K', '♦'), ('K', '♥'), ('Q', '♣'), ('Q', '♠'), ('Q', '♦'), ('Q', '♥'), ('A', '♣'), ('A', '♠'), ('A', '♦'), ('A', '♥'), (2, '♣'), (2, '♠'), (2, '♦'), (2, '♥'), (3, '♣'), (3, '♠'), (3, '♦'), (3, '♥'), (4, '♣'), (4, '♠'), (4, '♦'), (4, '♥'), (5, '♣'), (5, '♠'), (5, '♦'), (5, '♥'), (6, '♣'), (6, '♠'), (6, '♦'), (6, '♥'), (7, '♣'), (7, '♠'), (7, '♦'), (7, '♥'), (8, '♣'), (8, '♠'), (8, '♦'), (8, '♥'), (9, '♣'), (9, '♠'), (9, '♦'), (9, '♥'), ('J', '♣'), ('J', '♠'), ('J', '♦'), ('J', '♥'), ('K', '♣'), ('K', '♠'), ('K', '♦'), ('K', '♥'), ('Q', '♣'), ('Q', '♠'), ('Q', '♦'), ('Q', '♥'), ('A', '♣'), ('A', '♠'), ('A', '♦'), ('A', '♥'), (2, '♣'), (2, '♠'), (2, '♦'), (2, '♥'), (3, '♣'), (3, '♠'), (3, '♦'), (3, '♥'), (4, '♣'), (4, '♠'), (4, '♦'), (4, '♥'), (5, '♣'), (5, '♠'), (5, '♦'), (5, '♥'), (6, '♣'), (6, '♠'), (6, '♦'), (6, '♥'), (7, '♣'), (7, '♠'), (7, '♦'), (7, '♥'), (8, '♣'), (8, '♠'), (8, '♦'), (8, '♥'), (9, '♣'), (9, '♠'), (9, '♦'), (9, '♥'), ('J', '♣'), ('J', '♠'), ('J', '♦'), ('J', '♥'), ('K', '♣'), ('K', '♠'), ('K', '♦'), ('K', '♥'), ('Q', '♣'), ('Q', '♠'), ('Q', '♦'), ('Q', '♥'), ('A', '♣'), ('A', '♠'), ('A', '♦'), ('A', '♥'), (2, '♣'), (2, '♠'), (2, '♦'), (2, '♥'), (3, '♣'), (3, '♠'), (3, '♦'), (3, '♥'), (4, '♣'), (4, '♠'), (4, '♦'), (4, '♥'), (5, '♣'), (5, '♠'), (5, '♦'), (5, '♥'), (6, '♣'), (6, '♠'), (6, '♦'), (6, '♥'), (7, '♣'), (7, '♠'), (7, '♦'), (7, '♥'), (8, '♣'), (8, '♠'), (8, '♦'), (8, '♥'), (9, '♣'), (9, '♠'), (9, '♦'), (9, '♥'), ('J', '♣'), ('J', '♠'), ('J', '♦'), ('J', '♥'), ('K', '♣'), ('K', '♠'), ('K', '♦'), ('K', '♥'), ('Q', '♣'), ('Q', '♠'), ('Q', '♦'), ('Q', '♥'), ('A', '♣'), ('A', '♠'), ('A', '♦'), ('A', '♥')]\n"
     ]
    }
   ],
   "source": [
    "import random\n",
    "deck = []\n",
    "\n",
    "values = [2, 3, 4, 5, 6, 7, 8, 9, 'J', 'K', 'Q', 'A']\n",
    "suits = ['\\u2663', '\\u2660', '\\u2666', '\\u2665']\n",
    "\n",
    "for i in range(len(values)):\n",
    "    for i2 in range(len(suits)):\n",
    "        deck.append((values[i], suits[i2]))\n",
    "        # random.shuffle(deck)\n",
    "print(deck *4)"
   ]
  },
  {
   "cell_type": "code",
   "execution_count": null,
   "metadata": {},
   "outputs": [],
   "source": []
  }
 ],
 "metadata": {
  "kernelspec": {
   "display_name": "Python 3",
   "language": "python",
   "name": "python3"
  },
  "language_info": {
   "codemirror_mode": {
    "name": "ipython",
    "version": 3
   },
   "file_extension": ".py",
   "mimetype": "text/x-python",
   "name": "python",
   "nbconvert_exporter": "python",
   "pygments_lexer": "ipython3",
   "version": "3.12.0"
  }
 },
 "nbformat": 4,
 "nbformat_minor": 2
}
